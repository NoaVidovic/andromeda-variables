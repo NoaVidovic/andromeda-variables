{
 "cells": [
  {
   "cell_type": "code",
   "execution_count": 1,
   "id": "fc563e9f",
   "metadata": {},
   "outputs": [],
   "source": [
    "import matplotlib\n",
    "matplotlib.use('Agg')\n",
    "\n",
    "import matplotlib.pyplot as plt\n",
    "import numpy as np\n",
    "import pandas as pd\n",
    "\n",
    "from lomb_scargle import lomb_scargle, top_freqs\n",
    "from util import where, where_eq"
   ]
  },
  {
   "cell_type": "code",
   "execution_count": 2,
   "id": "ef53f45f",
   "metadata": {},
   "outputs": [],
   "source": [
    "sid_list = pd.read_csv('sid_list_filter_chi_n_var.csv', index_col=0)\n",
    "data_epoch = pd.read_csv('epoch_photometry_data.csv', index_col=0)"
   ]
  },
  {
   "cell_type": "code",
   "execution_count": 3,
   "id": "e91d6f8b",
   "metadata": {},
   "outputs": [],
   "source": [
    "ls_g = lomb_scargle('G', epoch_data=data_epoch, sid_list=sid_list['source_id'])"
   ]
  },
  {
   "cell_type": "code",
   "execution_count": 4,
   "id": "1ac856f7",
   "metadata": {},
   "outputs": [],
   "source": [
    "data_g = where_eq('band', 'G', df=data_epoch)\n",
    "\n",
    "def print_phase_curve_g(sid, n=3):\n",
    "    data = where_eq('source_id', sid, df=data_g)\n",
    "    f, p = ls_g[sid]\n",
    "    \n",
    "    t, mag = data['time'], data['mag']\n",
    "    t = t - min(t)\n",
    "    \n",
    "    fig, ax = plt.subplots(n, figsize=(10, 20))\n",
    "    for i, freq in enumerate(top_freqs(f, p, n)):\n",
    "        period = 1/freq\n",
    "        time = t - divmod(t, period)[0] * period  # shifting data to fit period\n",
    "        ax[i].scatter(time, mag)\n",
    "        ax[i].set_title(f'T = {period:.6}')\n",
    "        \n",
    "    fig.savefig(f'phase_curves/phase_curve_{sid}.png')\n",
    "    plt.close(fig)"
   ]
  },
  {
   "cell_type": "code",
   "execution_count": 5,
   "id": "3045736b",
   "metadata": {},
   "outputs": [],
   "source": [
    "for sid in sid_list['source_id']:\n",
    "    print_phase_curve_g(sid)"
   ]
  }
 ],
 "metadata": {
  "kernelspec": {
   "display_name": "Python 3 (ipykernel)",
   "language": "python",
   "name": "python3"
  },
  "language_info": {
   "codemirror_mode": {
    "name": "ipython",
    "version": 3
   },
   "file_extension": ".py",
   "mimetype": "text/x-python",
   "name": "python",
   "nbconvert_exporter": "python",
   "pygments_lexer": "ipython3",
   "version": "3.10.4"
  }
 },
 "nbformat": 4,
 "nbformat_minor": 5
}
