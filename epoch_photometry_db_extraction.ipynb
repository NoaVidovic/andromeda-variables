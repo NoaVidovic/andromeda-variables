{
 "cells": [
  {
   "cell_type": "code",
   "execution_count": 1,
   "id": "d649d806",
   "metadata": {},
   "outputs": [],
   "source": [
    "import numpy as np\n",
    "import pandas as pd\n",
    "\n",
    "from astroquery.gaia import Gaia\n",
    "from math import ceil"
   ]
  },
  {
   "cell_type": "code",
   "execution_count": 2,
   "id": "4f1a86c6",
   "metadata": {},
   "outputs": [],
   "source": [
    "data = pd.read_csv('jobresult03_parallax_filter.csv')"
   ]
  },
  {
   "cell_type": "code",
   "execution_count": 3,
   "id": "42a64ece",
   "metadata": {
    "scrolled": false
   },
   "outputs": [],
   "source": [
    "def download_csv(range_num, length=5000):\n",
    "    range_str = f'0{range_num}' if range_num < 10 else str(range_num)\n",
    "    \n",
    "    range_start = range_num * length\n",
    "    range_end = range_start + length\n",
    "    print(f\"{range_start}, {range_end}\")\n",
    "    \n",
    "    if range_start > len(data) or range_start < 0:\n",
    "        print('Index out of range')\n",
    "        return\n",
    "    \n",
    "    datalink = Gaia.load_data(ids=data['source_id'][range_start:range_end],\n",
    "                              data_release='Gaia DR3',\n",
    "                              retrieval_type='EPOCH_PHOTOMETRY',\n",
    "                              data_structure='COMBINED',\n",
    "                              format='csv'\n",
    "                             )\n",
    "    epoch_photometry_df = datalink['EPOCH_PHOTOMETRY_COMBINED.csv'][0].to_pandas()\n",
    "#     epoch_photometry_df.to_csv(f'lightcurves{range_str}.csv')\n",
    "\n",
    "    return epoch_photometry_df"
   ]
  },
  {
   "cell_type": "code",
   "execution_count": 5,
   "id": "212b8e0a",
   "metadata": {},
   "outputs": [
    {
     "name": "stdout",
     "output_type": "stream",
     "text": [
      "0, 5000\n",
      "5000, 10000\n",
      "10000, 15000\n",
      "15000, 20000\n",
      "20000, 25000\n",
      "25000, 30000\n",
      "30000, 35000\n",
      "35000, 40000\n",
      "40000, 45000\n",
      "45000, 50000\n",
      "50000, 55000\n",
      "55000, 60000\n",
      "60000, 65000\n",
      "Done\n"
     ]
    }
   ],
   "source": [
    "download_size = 5000\n",
    "df_list = [ download_csv(i, length=download_size) for i in range(ceil(len(data)/download_size)) ]\n",
    "print('Done')\n",
    "\n",
    "combined_df = pd.concat(df_list)\n",
    "del df_list\n",
    "\n",
    "combined_df"
   ]
  },
  {
   "cell_type": "code",
   "execution_count": 10,
   "id": "9e3923ea",
   "metadata": {},
   "outputs": [],
   "source": [
    "combined_df.to_csv('epoch_photometry_data.csv')"
   ]
  }
 ],
 "metadata": {
  "kernelspec": {
   "display_name": "Python 3 (ipykernel)",
   "language": "python",
   "name": "python3"
  },
  "language_info": {
   "codemirror_mode": {
    "name": "ipython",
    "version": 3
   },
   "file_extension": ".py",
   "mimetype": "text/x-python",
   "name": "python",
   "nbconvert_exporter": "python",
   "pygments_lexer": "ipython3",
   "version": "3.10.4"
  }
 },
 "nbformat": 4,
 "nbformat_minor": 5
}
